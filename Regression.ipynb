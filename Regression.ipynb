{
 "cells": [
  {
   "cell_type": "code",
   "execution_count": 2,
   "id": "21906ee3",
   "metadata": {},
   "outputs": [],
   "source": [
    "import quandl"
   ]
  },
  {
   "cell_type": "code",
   "execution_count": 1,
   "id": "1a30ff3f",
   "metadata": {},
   "outputs": [
    {
     "data": {
      "application/javascript": "\n        if (window._pyforest_update_imports_cell) { window._pyforest_update_imports_cell('import quandl'); }\n    ",
      "text/plain": [
       "<IPython.core.display.Javascript object>"
      ]
     },
     "metadata": {},
     "output_type": "display_data"
    },
    {
     "data": {
      "text/html": [
       "<div>\n",
       "<style scoped>\n",
       "    .dataframe tbody tr th:only-of-type {\n",
       "        vertical-align: middle;\n",
       "    }\n",
       "\n",
       "    .dataframe tbody tr th {\n",
       "        vertical-align: top;\n",
       "    }\n",
       "\n",
       "    .dataframe thead th {\n",
       "        text-align: right;\n",
       "    }\n",
       "</style>\n",
       "<table border=\"1\" class=\"dataframe\">\n",
       "  <thead>\n",
       "    <tr style=\"text-align: right;\">\n",
       "      <th></th>\n",
       "      <th>Open</th>\n",
       "      <th>High</th>\n",
       "      <th>Low</th>\n",
       "      <th>Close</th>\n",
       "      <th>Volume</th>\n",
       "      <th>Ex-Dividend</th>\n",
       "      <th>Split Ratio</th>\n",
       "      <th>Adj. Open</th>\n",
       "      <th>Adj. High</th>\n",
       "      <th>Adj. Low</th>\n",
       "      <th>Adj. Close</th>\n",
       "      <th>Adj. Volume</th>\n",
       "    </tr>\n",
       "    <tr>\n",
       "      <th>Date</th>\n",
       "      <th></th>\n",
       "      <th></th>\n",
       "      <th></th>\n",
       "      <th></th>\n",
       "      <th></th>\n",
       "      <th></th>\n",
       "      <th></th>\n",
       "      <th></th>\n",
       "      <th></th>\n",
       "      <th></th>\n",
       "      <th></th>\n",
       "      <th></th>\n",
       "    </tr>\n",
       "  </thead>\n",
       "  <tbody>\n",
       "    <tr>\n",
       "      <th>2004-08-19</th>\n",
       "      <td>100.01</td>\n",
       "      <td>104.06</td>\n",
       "      <td>95.96</td>\n",
       "      <td>100.335</td>\n",
       "      <td>44659000.0</td>\n",
       "      <td>0.0</td>\n",
       "      <td>1.0</td>\n",
       "      <td>50.159839</td>\n",
       "      <td>52.191109</td>\n",
       "      <td>48.128568</td>\n",
       "      <td>50.322842</td>\n",
       "      <td>44659000.0</td>\n",
       "    </tr>\n",
       "    <tr>\n",
       "      <th>2004-08-20</th>\n",
       "      <td>101.01</td>\n",
       "      <td>109.08</td>\n",
       "      <td>100.50</td>\n",
       "      <td>108.310</td>\n",
       "      <td>22834300.0</td>\n",
       "      <td>0.0</td>\n",
       "      <td>1.0</td>\n",
       "      <td>50.661387</td>\n",
       "      <td>54.708881</td>\n",
       "      <td>50.405597</td>\n",
       "      <td>54.322689</td>\n",
       "      <td>22834300.0</td>\n",
       "    </tr>\n",
       "    <tr>\n",
       "      <th>2004-08-23</th>\n",
       "      <td>110.76</td>\n",
       "      <td>113.48</td>\n",
       "      <td>109.05</td>\n",
       "      <td>109.400</td>\n",
       "      <td>18256100.0</td>\n",
       "      <td>0.0</td>\n",
       "      <td>1.0</td>\n",
       "      <td>55.551482</td>\n",
       "      <td>56.915693</td>\n",
       "      <td>54.693835</td>\n",
       "      <td>54.869377</td>\n",
       "      <td>18256100.0</td>\n",
       "    </tr>\n",
       "    <tr>\n",
       "      <th>2004-08-24</th>\n",
       "      <td>111.24</td>\n",
       "      <td>111.60</td>\n",
       "      <td>103.57</td>\n",
       "      <td>104.870</td>\n",
       "      <td>15247300.0</td>\n",
       "      <td>0.0</td>\n",
       "      <td>1.0</td>\n",
       "      <td>55.792225</td>\n",
       "      <td>55.972783</td>\n",
       "      <td>51.945350</td>\n",
       "      <td>52.597363</td>\n",
       "      <td>15247300.0</td>\n",
       "    </tr>\n",
       "    <tr>\n",
       "      <th>2004-08-25</th>\n",
       "      <td>104.76</td>\n",
       "      <td>108.00</td>\n",
       "      <td>103.88</td>\n",
       "      <td>106.000</td>\n",
       "      <td>9188600.0</td>\n",
       "      <td>0.0</td>\n",
       "      <td>1.0</td>\n",
       "      <td>52.542193</td>\n",
       "      <td>54.167209</td>\n",
       "      <td>52.100830</td>\n",
       "      <td>53.164113</td>\n",
       "      <td>9188600.0</td>\n",
       "    </tr>\n",
       "    <tr>\n",
       "      <th>...</th>\n",
       "      <td>...</td>\n",
       "      <td>...</td>\n",
       "      <td>...</td>\n",
       "      <td>...</td>\n",
       "      <td>...</td>\n",
       "      <td>...</td>\n",
       "      <td>...</td>\n",
       "      <td>...</td>\n",
       "      <td>...</td>\n",
       "      <td>...</td>\n",
       "      <td>...</td>\n",
       "      <td>...</td>\n",
       "    </tr>\n",
       "    <tr>\n",
       "      <th>2018-03-21</th>\n",
       "      <td>1092.57</td>\n",
       "      <td>1108.70</td>\n",
       "      <td>1087.21</td>\n",
       "      <td>1094.000</td>\n",
       "      <td>1990515.0</td>\n",
       "      <td>0.0</td>\n",
       "      <td>1.0</td>\n",
       "      <td>1092.570000</td>\n",
       "      <td>1108.700000</td>\n",
       "      <td>1087.210000</td>\n",
       "      <td>1094.000000</td>\n",
       "      <td>1990515.0</td>\n",
       "    </tr>\n",
       "    <tr>\n",
       "      <th>2018-03-22</th>\n",
       "      <td>1080.01</td>\n",
       "      <td>1083.92</td>\n",
       "      <td>1049.64</td>\n",
       "      <td>1053.150</td>\n",
       "      <td>3418154.0</td>\n",
       "      <td>0.0</td>\n",
       "      <td>1.0</td>\n",
       "      <td>1080.010000</td>\n",
       "      <td>1083.920000</td>\n",
       "      <td>1049.640000</td>\n",
       "      <td>1053.150000</td>\n",
       "      <td>3418154.0</td>\n",
       "    </tr>\n",
       "    <tr>\n",
       "      <th>2018-03-23</th>\n",
       "      <td>1051.37</td>\n",
       "      <td>1066.78</td>\n",
       "      <td>1024.87</td>\n",
       "      <td>1026.550</td>\n",
       "      <td>2413517.0</td>\n",
       "      <td>0.0</td>\n",
       "      <td>1.0</td>\n",
       "      <td>1051.370000</td>\n",
       "      <td>1066.780000</td>\n",
       "      <td>1024.870000</td>\n",
       "      <td>1026.550000</td>\n",
       "      <td>2413517.0</td>\n",
       "    </tr>\n",
       "    <tr>\n",
       "      <th>2018-03-26</th>\n",
       "      <td>1050.60</td>\n",
       "      <td>1059.27</td>\n",
       "      <td>1010.58</td>\n",
       "      <td>1054.090</td>\n",
       "      <td>3272409.0</td>\n",
       "      <td>0.0</td>\n",
       "      <td>1.0</td>\n",
       "      <td>1050.600000</td>\n",
       "      <td>1059.270000</td>\n",
       "      <td>1010.580000</td>\n",
       "      <td>1054.090000</td>\n",
       "      <td>3272409.0</td>\n",
       "    </tr>\n",
       "    <tr>\n",
       "      <th>2018-03-27</th>\n",
       "      <td>1063.90</td>\n",
       "      <td>1064.54</td>\n",
       "      <td>997.62</td>\n",
       "      <td>1006.940</td>\n",
       "      <td>2940957.0</td>\n",
       "      <td>0.0</td>\n",
       "      <td>1.0</td>\n",
       "      <td>1063.900000</td>\n",
       "      <td>1064.540000</td>\n",
       "      <td>997.620000</td>\n",
       "      <td>1006.940000</td>\n",
       "      <td>2940957.0</td>\n",
       "    </tr>\n",
       "  </tbody>\n",
       "</table>\n",
       "<p>3424 rows × 12 columns</p>\n",
       "</div>"
      ],
      "text/plain": [
       "               Open     High      Low     Close      Volume  Ex-Dividend  \\\n",
       "Date                                                                       \n",
       "2004-08-19   100.01   104.06    95.96   100.335  44659000.0          0.0   \n",
       "2004-08-20   101.01   109.08   100.50   108.310  22834300.0          0.0   \n",
       "2004-08-23   110.76   113.48   109.05   109.400  18256100.0          0.0   \n",
       "2004-08-24   111.24   111.60   103.57   104.870  15247300.0          0.0   \n",
       "2004-08-25   104.76   108.00   103.88   106.000   9188600.0          0.0   \n",
       "...             ...      ...      ...       ...         ...          ...   \n",
       "2018-03-21  1092.57  1108.70  1087.21  1094.000   1990515.0          0.0   \n",
       "2018-03-22  1080.01  1083.92  1049.64  1053.150   3418154.0          0.0   \n",
       "2018-03-23  1051.37  1066.78  1024.87  1026.550   2413517.0          0.0   \n",
       "2018-03-26  1050.60  1059.27  1010.58  1054.090   3272409.0          0.0   \n",
       "2018-03-27  1063.90  1064.54   997.62  1006.940   2940957.0          0.0   \n",
       "\n",
       "            Split Ratio    Adj. Open    Adj. High     Adj. Low   Adj. Close  \\\n",
       "Date                                                                          \n",
       "2004-08-19          1.0    50.159839    52.191109    48.128568    50.322842   \n",
       "2004-08-20          1.0    50.661387    54.708881    50.405597    54.322689   \n",
       "2004-08-23          1.0    55.551482    56.915693    54.693835    54.869377   \n",
       "2004-08-24          1.0    55.792225    55.972783    51.945350    52.597363   \n",
       "2004-08-25          1.0    52.542193    54.167209    52.100830    53.164113   \n",
       "...                 ...          ...          ...          ...          ...   \n",
       "2018-03-21          1.0  1092.570000  1108.700000  1087.210000  1094.000000   \n",
       "2018-03-22          1.0  1080.010000  1083.920000  1049.640000  1053.150000   \n",
       "2018-03-23          1.0  1051.370000  1066.780000  1024.870000  1026.550000   \n",
       "2018-03-26          1.0  1050.600000  1059.270000  1010.580000  1054.090000   \n",
       "2018-03-27          1.0  1063.900000  1064.540000   997.620000  1006.940000   \n",
       "\n",
       "            Adj. Volume  \n",
       "Date                     \n",
       "2004-08-19   44659000.0  \n",
       "2004-08-20   22834300.0  \n",
       "2004-08-23   18256100.0  \n",
       "2004-08-24   15247300.0  \n",
       "2004-08-25    9188600.0  \n",
       "...                 ...  \n",
       "2018-03-21    1990515.0  \n",
       "2018-03-22    3418154.0  \n",
       "2018-03-23    2413517.0  \n",
       "2018-03-26    3272409.0  \n",
       "2018-03-27    2940957.0  \n",
       "\n",
       "[3424 rows x 12 columns]"
      ]
     },
     "execution_count": 1,
     "metadata": {},
     "output_type": "execute_result"
    }
   ],
   "source": [
    "df = quandl.get('WIKI/GOOGL')\n",
    "df"
   ]
  },
  {
   "cell_type": "code",
   "execution_count": 6,
   "id": "9b262fdc",
   "metadata": {},
   "outputs": [
    {
     "data": {
      "application/javascript": "/* Put everything inside the global mpl namespace */\n/* global mpl */\nwindow.mpl = {};\n\nmpl.get_websocket_type = function () {\n    if (typeof WebSocket !== 'undefined') {\n        return WebSocket;\n    } else if (typeof MozWebSocket !== 'undefined') {\n        return MozWebSocket;\n    } else {\n        alert(\n            'Your browser does not have WebSocket support. ' +\n                'Please try Chrome, Safari or Firefox ≥ 6. ' +\n                'Firefox 4 and 5 are also supported but you ' +\n                'have to enable WebSockets in about:config.'\n        );\n    }\n};\n\nmpl.figure = function (figure_id, websocket, ondownload, parent_element) {\n    this.id = figure_id;\n\n    this.ws = websocket;\n\n    this.supports_binary = this.ws.binaryType !== undefined;\n\n    if (!this.supports_binary) {\n        var warnings = document.getElementById('mpl-warnings');\n        if (warnings) {\n            warnings.style.display = 'block';\n            warnings.textContent =\n                'This browser does not support binary websocket messages. ' +\n                'Performance may be slow.';\n        }\n    }\n\n    this.imageObj = new Image();\n\n    this.context = undefined;\n    this.message = undefined;\n    this.canvas = undefined;\n    this.rubberband_canvas = undefined;\n    this.rubberband_context = undefined;\n    this.format_dropdown = undefined;\n\n    this.image_mode = 'full';\n\n    this.root = document.createElement('div');\n    this.root.setAttribute('style', 'display: inline-block');\n    this._root_extra_style(this.root);\n\n    parent_element.appendChild(this.root);\n\n    this._init_header(this);\n    this._init_canvas(this);\n    this._init_toolbar(this);\n\n    var fig = this;\n\n    this.waiting = false;\n\n    this.ws.onopen = function () {\n        fig.send_message('supports_binary', { value: fig.supports_binary });\n        fig.send_message('send_image_mode', {});\n        if (fig.ratio !== 1) {\n            fig.send_message('set_device_pixel_ratio', {\n                device_pixel_ratio: fig.ratio,\n            });\n        }\n        fig.send_message('refresh', {});\n    };\n\n    this.imageObj.onload = function () {\n        if (fig.image_mode === 'full') {\n            // Full images could contain transparency (where diff images\n            // almost always do), so we need to clear the canvas so that\n            // there is no ghosting.\n            fig.context.clearRect(0, 0, fig.canvas.width, fig.canvas.height);\n        }\n        fig.context.drawImage(fig.imageObj, 0, 0);\n    };\n\n    this.imageObj.onunload = function () {\n        fig.ws.close();\n    };\n\n    this.ws.onmessage = this._make_on_message_function(this);\n\n    this.ondownload = ondownload;\n};\n\nmpl.figure.prototype._init_header = function () {\n    var titlebar = document.createElement('div');\n    titlebar.classList =\n        'ui-dialog-titlebar ui-widget-header ui-corner-all ui-helper-clearfix';\n    var titletext = document.createElement('div');\n    titletext.classList = 'ui-dialog-title';\n    titletext.setAttribute(\n        'style',\n        'width: 100%; text-align: center; padding: 3px;'\n    );\n    titlebar.appendChild(titletext);\n    this.root.appendChild(titlebar);\n    this.header = titletext;\n};\n\nmpl.figure.prototype._canvas_extra_style = function (_canvas_div) {};\n\nmpl.figure.prototype._root_extra_style = function (_canvas_div) {};\n\nmpl.figure.prototype._init_canvas = function () {\n    var fig = this;\n\n    var canvas_div = (this.canvas_div = document.createElement('div'));\n    canvas_div.setAttribute(\n        'style',\n        'border: 1px solid #ddd;' +\n            'box-sizing: content-box;' +\n            'clear: both;' +\n            'min-height: 1px;' +\n            'min-width: 1px;' +\n            'outline: 0;' +\n            'overflow: hidden;' +\n            'position: relative;' +\n            'resize: both;'\n    );\n\n    function on_keyboard_event_closure(name) {\n        return function (event) {\n            return fig.key_event(event, name);\n        };\n    }\n\n    canvas_div.addEventListener(\n        'keydown',\n        on_keyboard_event_closure('key_press')\n    );\n    canvas_div.addEventListener(\n        'keyup',\n        on_keyboard_event_closure('key_release')\n    );\n\n    this._canvas_extra_style(canvas_div);\n    this.root.appendChild(canvas_div);\n\n    var canvas = (this.canvas = document.createElement('canvas'));\n    canvas.classList.add('mpl-canvas');\n    canvas.setAttribute('style', 'box-sizing: content-box;');\n\n    this.context = canvas.getContext('2d');\n\n    var backingStore =\n        this.context.backingStorePixelRatio ||\n        this.context.webkitBackingStorePixelRatio ||\n        this.context.mozBackingStorePixelRatio ||\n        this.context.msBackingStorePixelRatio ||\n        this.context.oBackingStorePixelRatio ||\n        this.context.backingStorePixelRatio ||\n        1;\n\n    this.ratio = (window.devicePixelRatio || 1) / backingStore;\n\n    var rubberband_canvas = (this.rubberband_canvas = document.createElement(\n        'canvas'\n    ));\n    rubberband_canvas.setAttribute(\n        'style',\n        'box-sizing: content-box; position: absolute; left: 0; top: 0; z-index: 1;'\n    );\n\n    // Apply a ponyfill if ResizeObserver is not implemented by browser.\n    if (this.ResizeObserver === undefined) {\n        if (window.ResizeObserver !== undefined) {\n            this.ResizeObserver = window.ResizeObserver;\n        } else {\n            var obs = _JSXTOOLS_RESIZE_OBSERVER({});\n            this.ResizeObserver = obs.ResizeObserver;\n        }\n    }\n\n    this.resizeObserverInstance = new this.ResizeObserver(function (entries) {\n        var nentries = entries.length;\n        for (var i = 0; i < nentries; i++) {\n            var entry = entries[i];\n            var width, height;\n            if (entry.contentBoxSize) {\n                if (entry.contentBoxSize instanceof Array) {\n                    // Chrome 84 implements new version of spec.\n                    width = entry.contentBoxSize[0].inlineSize;\n                    height = entry.contentBoxSize[0].blockSize;\n                } else {\n                    // Firefox implements old version of spec.\n                    width = entry.contentBoxSize.inlineSize;\n                    height = entry.contentBoxSize.blockSize;\n                }\n            } else {\n                // Chrome <84 implements even older version of spec.\n                width = entry.contentRect.width;\n                height = entry.contentRect.height;\n            }\n\n            // Keep the size of the canvas and rubber band canvas in sync with\n            // the canvas container.\n            if (entry.devicePixelContentBoxSize) {\n                // Chrome 84 implements new version of spec.\n                canvas.setAttribute(\n                    'width',\n                    entry.devicePixelContentBoxSize[0].inlineSize\n                );\n                canvas.setAttribute(\n                    'height',\n                    entry.devicePixelContentBoxSize[0].blockSize\n                );\n            } else {\n                canvas.setAttribute('width', width * fig.ratio);\n                canvas.setAttribute('height', height * fig.ratio);\n            }\n            canvas.setAttribute(\n                'style',\n                'width: ' + width + 'px; height: ' + height + 'px;'\n            );\n\n            rubberband_canvas.setAttribute('width', width);\n            rubberband_canvas.setAttribute('height', height);\n\n            // And update the size in Python. We ignore the initial 0/0 size\n            // that occurs as the element is placed into the DOM, which should\n            // otherwise not happen due to the minimum size styling.\n            if (fig.ws.readyState == 1 && width != 0 && height != 0) {\n                fig.request_resize(width, height);\n            }\n        }\n    });\n    this.resizeObserverInstance.observe(canvas_div);\n\n    function on_mouse_event_closure(name) {\n        return function (event) {\n            return fig.mouse_event(event, name);\n        };\n    }\n\n    rubberband_canvas.addEventListener(\n        'mousedown',\n        on_mouse_event_closure('button_press')\n    );\n    rubberband_canvas.addEventListener(\n        'mouseup',\n        on_mouse_event_closure('button_release')\n    );\n    rubberband_canvas.addEventListener(\n        'dblclick',\n        on_mouse_event_closure('dblclick')\n    );\n    // Throttle sequential mouse events to 1 every 20ms.\n    rubberband_canvas.addEventListener(\n        'mousemove',\n        on_mouse_event_closure('motion_notify')\n    );\n\n    rubberband_canvas.addEventListener(\n        'mouseenter',\n        on_mouse_event_closure('figure_enter')\n    );\n    rubberband_canvas.addEventListener(\n        'mouseleave',\n        on_mouse_event_closure('figure_leave')\n    );\n\n    canvas_div.addEventListener('wheel', function (event) {\n        if (event.deltaY < 0) {\n            event.step = 1;\n        } else {\n            event.step = -1;\n        }\n        on_mouse_event_closure('scroll')(event);\n    });\n\n    canvas_div.appendChild(canvas);\n    canvas_div.appendChild(rubberband_canvas);\n\n    this.rubberband_context = rubberband_canvas.getContext('2d');\n    this.rubberband_context.strokeStyle = '#000000';\n\n    this._resize_canvas = function (width, height, forward) {\n        if (forward) {\n            canvas_div.style.width = width + 'px';\n            canvas_div.style.height = height + 'px';\n        }\n    };\n\n    // Disable right mouse context menu.\n    this.rubberband_canvas.addEventListener('contextmenu', function (_e) {\n        event.preventDefault();\n        return false;\n    });\n\n    function set_focus() {\n        canvas.focus();\n        canvas_div.focus();\n    }\n\n    window.setTimeout(set_focus, 100);\n};\n\nmpl.figure.prototype._init_toolbar = function () {\n    var fig = this;\n\n    var toolbar = document.createElement('div');\n    toolbar.classList = 'mpl-toolbar';\n    this.root.appendChild(toolbar);\n\n    function on_click_closure(name) {\n        return function (_event) {\n            return fig.toolbar_button_onclick(name);\n        };\n    }\n\n    function on_mouseover_closure(tooltip) {\n        return function (event) {\n            if (!event.currentTarget.disabled) {\n                return fig.toolbar_button_onmouseover(tooltip);\n            }\n        };\n    }\n\n    fig.buttons = {};\n    var buttonGroup = document.createElement('div');\n    buttonGroup.classList = 'mpl-button-group';\n    for (var toolbar_ind in mpl.toolbar_items) {\n        var name = mpl.toolbar_items[toolbar_ind][0];\n        var tooltip = mpl.toolbar_items[toolbar_ind][1];\n        var image = mpl.toolbar_items[toolbar_ind][2];\n        var method_name = mpl.toolbar_items[toolbar_ind][3];\n\n        if (!name) {\n            /* Instead of a spacer, we start a new button group. */\n            if (buttonGroup.hasChildNodes()) {\n                toolbar.appendChild(buttonGroup);\n            }\n            buttonGroup = document.createElement('div');\n            buttonGroup.classList = 'mpl-button-group';\n            continue;\n        }\n\n        var button = (fig.buttons[name] = document.createElement('button'));\n        button.classList = 'mpl-widget';\n        button.setAttribute('role', 'button');\n        button.setAttribute('aria-disabled', 'false');\n        button.addEventListener('click', on_click_closure(method_name));\n        button.addEventListener('mouseover', on_mouseover_closure(tooltip));\n\n        var icon_img = document.createElement('img');\n        icon_img.src = '_images/' + image + '.png';\n        icon_img.srcset = '_images/' + image + '_large.png 2x';\n        icon_img.alt = tooltip;\n        button.appendChild(icon_img);\n\n        buttonGroup.appendChild(button);\n    }\n\n    if (buttonGroup.hasChildNodes()) {\n        toolbar.appendChild(buttonGroup);\n    }\n\n    var fmt_picker = document.createElement('select');\n    fmt_picker.classList = 'mpl-widget';\n    toolbar.appendChild(fmt_picker);\n    this.format_dropdown = fmt_picker;\n\n    for (var ind in mpl.extensions) {\n        var fmt = mpl.extensions[ind];\n        var option = document.createElement('option');\n        option.selected = fmt === mpl.default_extension;\n        option.innerHTML = fmt;\n        fmt_picker.appendChild(option);\n    }\n\n    var status_bar = document.createElement('span');\n    status_bar.classList = 'mpl-message';\n    toolbar.appendChild(status_bar);\n    this.message = status_bar;\n};\n\nmpl.figure.prototype.request_resize = function (x_pixels, y_pixels) {\n    // Request matplotlib to resize the figure. Matplotlib will then trigger a resize in the client,\n    // which will in turn request a refresh of the image.\n    this.send_message('resize', { width: x_pixels, height: y_pixels });\n};\n\nmpl.figure.prototype.send_message = function (type, properties) {\n    properties['type'] = type;\n    properties['figure_id'] = this.id;\n    this.ws.send(JSON.stringify(properties));\n};\n\nmpl.figure.prototype.send_draw_message = function () {\n    if (!this.waiting) {\n        this.waiting = true;\n        this.ws.send(JSON.stringify({ type: 'draw', figure_id: this.id }));\n    }\n};\n\nmpl.figure.prototype.handle_save = function (fig, _msg) {\n    var format_dropdown = fig.format_dropdown;\n    var format = format_dropdown.options[format_dropdown.selectedIndex].value;\n    fig.ondownload(fig, format);\n};\n\nmpl.figure.prototype.handle_resize = function (fig, msg) {\n    var size = msg['size'];\n    if (size[0] !== fig.canvas.width || size[1] !== fig.canvas.height) {\n        fig._resize_canvas(size[0], size[1], msg['forward']);\n        fig.send_message('refresh', {});\n    }\n};\n\nmpl.figure.prototype.handle_rubberband = function (fig, msg) {\n    var x0 = msg['x0'] / fig.ratio;\n    var y0 = (fig.canvas.height - msg['y0']) / fig.ratio;\n    var x1 = msg['x1'] / fig.ratio;\n    var y1 = (fig.canvas.height - msg['y1']) / fig.ratio;\n    x0 = Math.floor(x0) + 0.5;\n    y0 = Math.floor(y0) + 0.5;\n    x1 = Math.floor(x1) + 0.5;\n    y1 = Math.floor(y1) + 0.5;\n    var min_x = Math.min(x0, x1);\n    var min_y = Math.min(y0, y1);\n    var width = Math.abs(x1 - x0);\n    var height = Math.abs(y1 - y0);\n\n    fig.rubberband_context.clearRect(\n        0,\n        0,\n        fig.canvas.width / fig.ratio,\n        fig.canvas.height / fig.ratio\n    );\n\n    fig.rubberband_context.strokeRect(min_x, min_y, width, height);\n};\n\nmpl.figure.prototype.handle_figure_label = function (fig, msg) {\n    // Updates the figure title.\n    fig.header.textContent = msg['label'];\n};\n\nmpl.figure.prototype.handle_cursor = function (fig, msg) {\n    fig.rubberband_canvas.style.cursor = msg['cursor'];\n};\n\nmpl.figure.prototype.handle_message = function (fig, msg) {\n    fig.message.textContent = msg['message'];\n};\n\nmpl.figure.prototype.handle_draw = function (fig, _msg) {\n    // Request the server to send over a new figure.\n    fig.send_draw_message();\n};\n\nmpl.figure.prototype.handle_image_mode = function (fig, msg) {\n    fig.image_mode = msg['mode'];\n};\n\nmpl.figure.prototype.handle_history_buttons = function (fig, msg) {\n    for (var key in msg) {\n        if (!(key in fig.buttons)) {\n            continue;\n        }\n        fig.buttons[key].disabled = !msg[key];\n        fig.buttons[key].setAttribute('aria-disabled', !msg[key]);\n    }\n};\n\nmpl.figure.prototype.handle_navigate_mode = function (fig, msg) {\n    if (msg['mode'] === 'PAN') {\n        fig.buttons['Pan'].classList.add('active');\n        fig.buttons['Zoom'].classList.remove('active');\n    } else if (msg['mode'] === 'ZOOM') {\n        fig.buttons['Pan'].classList.remove('active');\n        fig.buttons['Zoom'].classList.add('active');\n    } else {\n        fig.buttons['Pan'].classList.remove('active');\n        fig.buttons['Zoom'].classList.remove('active');\n    }\n};\n\nmpl.figure.prototype.updated_canvas_event = function () {\n    // Called whenever the canvas gets updated.\n    this.send_message('ack', {});\n};\n\n// A function to construct a web socket function for onmessage handling.\n// Called in the figure constructor.\nmpl.figure.prototype._make_on_message_function = function (fig) {\n    return function socket_on_message(evt) {\n        if (evt.data instanceof Blob) {\n            var img = evt.data;\n            if (img.type !== 'image/png') {\n                /* FIXME: We get \"Resource interpreted as Image but\n                 * transferred with MIME type text/plain:\" errors on\n                 * Chrome.  But how to set the MIME type?  It doesn't seem\n                 * to be part of the websocket stream */\n                img.type = 'image/png';\n            }\n\n            /* Free the memory for the previous frames */\n            if (fig.imageObj.src) {\n                (window.URL || window.webkitURL).revokeObjectURL(\n                    fig.imageObj.src\n                );\n            }\n\n            fig.imageObj.src = (window.URL || window.webkitURL).createObjectURL(\n                img\n            );\n            fig.updated_canvas_event();\n            fig.waiting = false;\n            return;\n        } else if (\n            typeof evt.data === 'string' &&\n            evt.data.slice(0, 21) === 'data:image/png;base64'\n        ) {\n            fig.imageObj.src = evt.data;\n            fig.updated_canvas_event();\n            fig.waiting = false;\n            return;\n        }\n\n        var msg = JSON.parse(evt.data);\n        var msg_type = msg['type'];\n\n        // Call the  \"handle_{type}\" callback, which takes\n        // the figure and JSON message as its only arguments.\n        try {\n            var callback = fig['handle_' + msg_type];\n        } catch (e) {\n            console.log(\n                \"No handler for the '\" + msg_type + \"' message type: \",\n                msg\n            );\n            return;\n        }\n\n        if (callback) {\n            try {\n                // console.log(\"Handling '\" + msg_type + \"' message: \", msg);\n                callback(fig, msg);\n            } catch (e) {\n                console.log(\n                    \"Exception inside the 'handler_\" + msg_type + \"' callback:\",\n                    e,\n                    e.stack,\n                    msg\n                );\n            }\n        }\n    };\n};\n\n// from https://stackoverflow.com/questions/1114465/getting-mouse-location-in-canvas\nmpl.findpos = function (e) {\n    //this section is from http://www.quirksmode.org/js/events_properties.html\n    var targ;\n    if (!e) {\n        e = window.event;\n    }\n    if (e.target) {\n        targ = e.target;\n    } else if (e.srcElement) {\n        targ = e.srcElement;\n    }\n    if (targ.nodeType === 3) {\n        // defeat Safari bug\n        targ = targ.parentNode;\n    }\n\n    // pageX,Y are the mouse positions relative to the document\n    var boundingRect = targ.getBoundingClientRect();\n    var x = e.pageX - (boundingRect.left + document.body.scrollLeft);\n    var y = e.pageY - (boundingRect.top + document.body.scrollTop);\n\n    return { x: x, y: y };\n};\n\n/*\n * return a copy of an object with only non-object keys\n * we need this to avoid circular references\n * https://stackoverflow.com/a/24161582/3208463\n */\nfunction simpleKeys(original) {\n    return Object.keys(original).reduce(function (obj, key) {\n        if (typeof original[key] !== 'object') {\n            obj[key] = original[key];\n        }\n        return obj;\n    }, {});\n}\n\nmpl.figure.prototype.mouse_event = function (event, name) {\n    var canvas_pos = mpl.findpos(event);\n\n    if (name === 'button_press') {\n        this.canvas.focus();\n        this.canvas_div.focus();\n    }\n\n    var x = canvas_pos.x * this.ratio;\n    var y = canvas_pos.y * this.ratio;\n\n    this.send_message(name, {\n        x: x,\n        y: y,\n        button: event.button,\n        step: event.step,\n        guiEvent: simpleKeys(event),\n    });\n\n    /* This prevents the web browser from automatically changing to\n     * the text insertion cursor when the button is pressed.  We want\n     * to control all of the cursor setting manually through the\n     * 'cursor' event from matplotlib */\n    event.preventDefault();\n    return false;\n};\n\nmpl.figure.prototype._key_event_extra = function (_event, _name) {\n    // Handle any extra behaviour associated with a key event\n};\n\nmpl.figure.prototype.key_event = function (event, name) {\n    // Prevent repeat events\n    if (name === 'key_press') {\n        if (event.key === this._key) {\n            return;\n        } else {\n            this._key = event.key;\n        }\n    }\n    if (name === 'key_release') {\n        this._key = null;\n    }\n\n    var value = '';\n    if (event.ctrlKey && event.key !== 'Control') {\n        value += 'ctrl+';\n    }\n    else if (event.altKey && event.key !== 'Alt') {\n        value += 'alt+';\n    }\n    else if (event.shiftKey && event.key !== 'Shift') {\n        value += 'shift+';\n    }\n\n    value += 'k' + event.key;\n\n    this._key_event_extra(event, name);\n\n    this.send_message(name, { key: value, guiEvent: simpleKeys(event) });\n    return false;\n};\n\nmpl.figure.prototype.toolbar_button_onclick = function (name) {\n    if (name === 'download') {\n        this.handle_save(this, null);\n    } else {\n        this.send_message('toolbar_button', { name: name });\n    }\n};\n\nmpl.figure.prototype.toolbar_button_onmouseover = function (tooltip) {\n    this.message.textContent = tooltip;\n};\n\n///////////////// REMAINING CONTENT GENERATED BY embed_js.py /////////////////\n// prettier-ignore\nvar _JSXTOOLS_RESIZE_OBSERVER=function(A){var t,i=new WeakMap,n=new WeakMap,a=new WeakMap,r=new WeakMap,o=new Set;function s(e){if(!(this instanceof s))throw new TypeError(\"Constructor requires 'new' operator\");i.set(this,e)}function h(){throw new TypeError(\"Function is not a constructor\")}function c(e,t,i,n){e=0 in arguments?Number(arguments[0]):0,t=1 in arguments?Number(arguments[1]):0,i=2 in arguments?Number(arguments[2]):0,n=3 in arguments?Number(arguments[3]):0,this.right=(this.x=this.left=e)+(this.width=i),this.bottom=(this.y=this.top=t)+(this.height=n),Object.freeze(this)}function d(){t=requestAnimationFrame(d);var s=new WeakMap,p=new Set;o.forEach((function(t){r.get(t).forEach((function(i){var r=t instanceof window.SVGElement,o=a.get(t),d=r?0:parseFloat(o.paddingTop),f=r?0:parseFloat(o.paddingRight),l=r?0:parseFloat(o.paddingBottom),u=r?0:parseFloat(o.paddingLeft),g=r?0:parseFloat(o.borderTopWidth),m=r?0:parseFloat(o.borderRightWidth),w=r?0:parseFloat(o.borderBottomWidth),b=u+f,F=d+l,v=(r?0:parseFloat(o.borderLeftWidth))+m,W=g+w,y=r?0:t.offsetHeight-W-t.clientHeight,E=r?0:t.offsetWidth-v-t.clientWidth,R=b+v,z=F+W,M=r?t.width:parseFloat(o.width)-R-E,O=r?t.height:parseFloat(o.height)-z-y;if(n.has(t)){var k=n.get(t);if(k[0]===M&&k[1]===O)return}n.set(t,[M,O]);var S=Object.create(h.prototype);S.target=t,S.contentRect=new c(u,d,M,O),s.has(i)||(s.set(i,[]),p.add(i)),s.get(i).push(S)}))})),p.forEach((function(e){i.get(e).call(e,s.get(e),e)}))}return s.prototype.observe=function(i){if(i instanceof window.Element){r.has(i)||(r.set(i,new Set),o.add(i),a.set(i,window.getComputedStyle(i)));var n=r.get(i);n.has(this)||n.add(this),cancelAnimationFrame(t),t=requestAnimationFrame(d)}},s.prototype.unobserve=function(i){if(i instanceof window.Element&&r.has(i)){var n=r.get(i);n.has(this)&&(n.delete(this),n.size||(r.delete(i),o.delete(i))),n.size||r.delete(i),o.size||cancelAnimationFrame(t)}},A.DOMRectReadOnly=c,A.ResizeObserver=s,A.ResizeObserverEntry=h,A}; // eslint-disable-line\nmpl.toolbar_items = [[\"Home\", \"Reset original view\", \"fa fa-home icon-home\", \"home\"], [\"Back\", \"Back to previous view\", \"fa fa-arrow-left icon-arrow-left\", \"back\"], [\"Forward\", \"Forward to next view\", \"fa fa-arrow-right icon-arrow-right\", \"forward\"], [\"\", \"\", \"\", \"\"], [\"Pan\", \"Left button pans, Right button zooms\\nx/y fixes axis, CTRL fixes aspect\", \"fa fa-arrows icon-move\", \"pan\"], [\"Zoom\", \"Zoom to rectangle\\nx/y fixes axis\", \"fa fa-square-o icon-check-empty\", \"zoom\"], [\"\", \"\", \"\", \"\"], [\"Download\", \"Download plot\", \"fa fa-floppy-o icon-save\", \"download\"]];\n\nmpl.extensions = [\"eps\", \"jpeg\", \"pgf\", \"pdf\", \"png\", \"ps\", \"raw\", \"svg\", \"tif\"];\n\nmpl.default_extension = \"png\";/* global mpl */\n\nvar comm_websocket_adapter = function (comm) {\n    // Create a \"websocket\"-like object which calls the given IPython comm\n    // object with the appropriate methods. Currently this is a non binary\n    // socket, so there is still some room for performance tuning.\n    var ws = {};\n\n    ws.binaryType = comm.kernel.ws.binaryType;\n    ws.readyState = comm.kernel.ws.readyState;\n    function updateReadyState(_event) {\n        if (comm.kernel.ws) {\n            ws.readyState = comm.kernel.ws.readyState;\n        } else {\n            ws.readyState = 3; // Closed state.\n        }\n    }\n    comm.kernel.ws.addEventListener('open', updateReadyState);\n    comm.kernel.ws.addEventListener('close', updateReadyState);\n    comm.kernel.ws.addEventListener('error', updateReadyState);\n\n    ws.close = function () {\n        comm.close();\n    };\n    ws.send = function (m) {\n        //console.log('sending', m);\n        comm.send(m);\n    };\n    // Register the callback with on_msg.\n    comm.on_msg(function (msg) {\n        //console.log('receiving', msg['content']['data'], msg);\n        var data = msg['content']['data'];\n        if (data['blob'] !== undefined) {\n            data = {\n                data: new Blob(msg['buffers'], { type: data['blob'] }),\n            };\n        }\n        // Pass the mpl event to the overridden (by mpl) onmessage function.\n        ws.onmessage(data);\n    });\n    return ws;\n};\n\nmpl.mpl_figure_comm = function (comm, msg) {\n    // This is the function which gets called when the mpl process\n    // starts-up an IPython Comm through the \"matplotlib\" channel.\n\n    var id = msg.content.data.id;\n    // Get hold of the div created by the display call when the Comm\n    // socket was opened in Python.\n    var element = document.getElementById(id);\n    var ws_proxy = comm_websocket_adapter(comm);\n\n    function ondownload(figure, _format) {\n        window.open(figure.canvas.toDataURL());\n    }\n\n    var fig = new mpl.figure(id, ws_proxy, ondownload, element);\n\n    // Call onopen now - mpl needs it, as it is assuming we've passed it a real\n    // web socket which is closed, not our websocket->open comm proxy.\n    ws_proxy.onopen();\n\n    fig.parent_element = element;\n    fig.cell_info = mpl.find_output_cell(\"<div id='\" + id + \"'></div>\");\n    if (!fig.cell_info) {\n        console.error('Failed to find cell for figure', id, fig);\n        return;\n    }\n    fig.cell_info[0].output_area.element.on(\n        'cleared',\n        { fig: fig },\n        fig._remove_fig_handler\n    );\n};\n\nmpl.figure.prototype.handle_close = function (fig, msg) {\n    var width = fig.canvas.width / fig.ratio;\n    fig.cell_info[0].output_area.element.off(\n        'cleared',\n        fig._remove_fig_handler\n    );\n    fig.resizeObserverInstance.unobserve(fig.canvas_div);\n\n    // Update the output cell to use the data from the current canvas.\n    fig.push_to_output();\n    var dataURL = fig.canvas.toDataURL();\n    // Re-enable the keyboard manager in IPython - without this line, in FF,\n    // the notebook keyboard shortcuts fail.\n    IPython.keyboard_manager.enable();\n    fig.parent_element.innerHTML =\n        '<img src=\"' + dataURL + '\" width=\"' + width + '\">';\n    fig.close_ws(fig, msg);\n};\n\nmpl.figure.prototype.close_ws = function (fig, msg) {\n    fig.send_message('closing', msg);\n    // fig.ws.close()\n};\n\nmpl.figure.prototype.push_to_output = function (_remove_interactive) {\n    // Turn the data on the canvas into data in the output cell.\n    var width = this.canvas.width / this.ratio;\n    var dataURL = this.canvas.toDataURL();\n    this.cell_info[1]['text/html'] =\n        '<img src=\"' + dataURL + '\" width=\"' + width + '\">';\n};\n\nmpl.figure.prototype.updated_canvas_event = function () {\n    // Tell IPython that the notebook contents must change.\n    IPython.notebook.set_dirty(true);\n    this.send_message('ack', {});\n    var fig = this;\n    // Wait a second, then push the new image to the DOM so\n    // that it is saved nicely (might be nice to debounce this).\n    setTimeout(function () {\n        fig.push_to_output();\n    }, 1000);\n};\n\nmpl.figure.prototype._init_toolbar = function () {\n    var fig = this;\n\n    var toolbar = document.createElement('div');\n    toolbar.classList = 'btn-toolbar';\n    this.root.appendChild(toolbar);\n\n    function on_click_closure(name) {\n        return function (_event) {\n            return fig.toolbar_button_onclick(name);\n        };\n    }\n\n    function on_mouseover_closure(tooltip) {\n        return function (event) {\n            if (!event.currentTarget.disabled) {\n                return fig.toolbar_button_onmouseover(tooltip);\n            }\n        };\n    }\n\n    fig.buttons = {};\n    var buttonGroup = document.createElement('div');\n    buttonGroup.classList = 'btn-group';\n    var button;\n    for (var toolbar_ind in mpl.toolbar_items) {\n        var name = mpl.toolbar_items[toolbar_ind][0];\n        var tooltip = mpl.toolbar_items[toolbar_ind][1];\n        var image = mpl.toolbar_items[toolbar_ind][2];\n        var method_name = mpl.toolbar_items[toolbar_ind][3];\n\n        if (!name) {\n            /* Instead of a spacer, we start a new button group. */\n            if (buttonGroup.hasChildNodes()) {\n                toolbar.appendChild(buttonGroup);\n            }\n            buttonGroup = document.createElement('div');\n            buttonGroup.classList = 'btn-group';\n            continue;\n        }\n\n        button = fig.buttons[name] = document.createElement('button');\n        button.classList = 'btn btn-default';\n        button.href = '#';\n        button.title = name;\n        button.innerHTML = '<i class=\"fa ' + image + ' fa-lg\"></i>';\n        button.addEventListener('click', on_click_closure(method_name));\n        button.addEventListener('mouseover', on_mouseover_closure(tooltip));\n        buttonGroup.appendChild(button);\n    }\n\n    if (buttonGroup.hasChildNodes()) {\n        toolbar.appendChild(buttonGroup);\n    }\n\n    // Add the status bar.\n    var status_bar = document.createElement('span');\n    status_bar.classList = 'mpl-message pull-right';\n    toolbar.appendChild(status_bar);\n    this.message = status_bar;\n\n    // Add the close button to the window.\n    var buttongrp = document.createElement('div');\n    buttongrp.classList = 'btn-group inline pull-right';\n    button = document.createElement('button');\n    button.classList = 'btn btn-mini btn-primary';\n    button.href = '#';\n    button.title = 'Stop Interaction';\n    button.innerHTML = '<i class=\"fa fa-power-off icon-remove icon-large\"></i>';\n    button.addEventListener('click', function (_evt) {\n        fig.handle_close(fig, {});\n    });\n    button.addEventListener(\n        'mouseover',\n        on_mouseover_closure('Stop Interaction')\n    );\n    buttongrp.appendChild(button);\n    var titlebar = this.root.querySelector('.ui-dialog-titlebar');\n    titlebar.insertBefore(buttongrp, titlebar.firstChild);\n};\n\nmpl.figure.prototype._remove_fig_handler = function (event) {\n    var fig = event.data.fig;\n    if (event.target !== this) {\n        // Ignore bubbled events from children.\n        return;\n    }\n    fig.close_ws(fig, {});\n};\n\nmpl.figure.prototype._root_extra_style = function (el) {\n    el.style.boxSizing = 'content-box'; // override notebook setting of border-box.\n};\n\nmpl.figure.prototype._canvas_extra_style = function (el) {\n    // this is important to make the div 'focusable\n    el.setAttribute('tabindex', 0);\n    // reach out to IPython and tell the keyboard manager to turn it's self\n    // off when our div gets focus\n\n    // location in version 3\n    if (IPython.notebook.keyboard_manager) {\n        IPython.notebook.keyboard_manager.register_events(el);\n    } else {\n        // location in version 2\n        IPython.keyboard_manager.register_events(el);\n    }\n};\n\nmpl.figure.prototype._key_event_extra = function (event, _name) {\n    // Check for shift+enter\n    if (event.shiftKey && event.which === 13) {\n        this.canvas_div.blur();\n        // select the cell after this one\n        var index = IPython.notebook.find_cell_index(this.cell_info[0]);\n        IPython.notebook.select(index + 1);\n    }\n};\n\nmpl.figure.prototype.handle_save = function (fig, _msg) {\n    fig.ondownload(fig, null);\n};\n\nmpl.find_output_cell = function (html_output) {\n    // Return the cell and output element which can be found *uniquely* in the notebook.\n    // Note - this is a bit hacky, but it is done because the \"notebook_saving.Notebook\"\n    // IPython event is triggered only after the cells have been serialised, which for\n    // our purposes (turning an active figure into a static one), is too late.\n    var cells = IPython.notebook.get_cells();\n    var ncells = cells.length;\n    for (var i = 0; i < ncells; i++) {\n        var cell = cells[i];\n        if (cell.cell_type === 'code') {\n            for (var j = 0; j < cell.output_area.outputs.length; j++) {\n                var data = cell.output_area.outputs[j];\n                if (data.data) {\n                    // IPython >= 3 moved mimebundle to data attribute of output\n                    data = data.data;\n                }\n                if (data['text/html'] === html_output) {\n                    return [cell, data, j];\n                }\n            }\n        }\n    }\n};\n\n// Register the function which deals with the matplotlib target/channel.\n// The kernel may be null if the page has been refreshed.\nif (IPython.notebook.kernel !== null) {\n    IPython.notebook.kernel.comm_manager.register_target(\n        'matplotlib',\n        mpl.mpl_figure_comm\n    );\n}\n",
      "text/plain": [
       "<IPython.core.display.Javascript object>"
      ]
     },
     "metadata": {},
     "output_type": "display_data"
    },
    {
     "data": {
      "text/html": [
       "<img src=\"data:image/png;base64,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\" width=\"640\">"
      ],
      "text/plain": [
       "<IPython.core.display.HTML object>"
      ]
     },
     "metadata": {},
     "output_type": "display_data"
    },
    {
     "data": {
      "text/plain": [
       "<AxesSubplot:xlabel='Date'>"
      ]
     },
     "execution_count": 6,
     "metadata": {},
     "output_type": "execute_result"
    }
   ],
   "source": [
    "\n",
    "df['Adj. Volume'].plot()"
   ]
  },
  {
   "cell_type": "code",
   "execution_count": 2,
   "id": "1aa37dc7",
   "metadata": {},
   "outputs": [
    {
     "data": {
      "application/javascript": "\n        if (window._pyforest_update_imports_cell) { window._pyforest_update_imports_cell('import matplotlib.pyplot as plt\\nimport quandl'); }\n    ",
      "text/plain": [
       "<IPython.core.display.Javascript object>"
      ]
     },
     "metadata": {},
     "output_type": "display_data"
    },
    {
     "data": {
      "application/javascript": "\n        if (window._pyforest_update_imports_cell) { window._pyforest_update_imports_cell('import matplotlib.pyplot as plt\\nimport seaborn as sns\\nimport quandl'); }\n    ",
      "text/plain": [
       "<IPython.core.display.Javascript object>"
      ]
     },
     "metadata": {},
     "output_type": "display_data"
    },
    {
     "data": {
      "text/plain": [
       "<AxesSubplot: >"
      ]
     },
     "execution_count": 2,
     "metadata": {},
     "output_type": "execute_result"
    },
    {
     "data": {
      "image/png": "[encoded data removed]",
      "text/plain": [
       "<Figure size 1080x432 with 2 Axes>"
      ]
     },
     "metadata": {
      "needs_background": "light"
     },
     "output_type": "display_data"
    }
   ],
   "source": [
    "plt.figure(figsize = (15,6))\n",
    "sns.heatmap(df.corr(), cmap = 'YlGnBu',annot = True)"
   ]
  },
  {
   "cell_type": "code",
   "execution_count": 3,
   "id": "f6fd121e",
   "metadata": {},
   "outputs": [
    {
     "name": "stdout",
     "output_type": "stream",
     "text": [
      "['Open', 'High', 'Low', 'Close', 'Volume', 'Ex-Dividend', 'Split Ratio', 'Adj. Open', 'Adj. High', 'Adj. Low', 'Adj. Close', 'Adj. Volume']\n"
     ]
    }
   ],
   "source": [
    "print(list(df.columns))"
   ]
  },
  {
   "cell_type": "code",
   "execution_count": 4,
   "id": "d0778b2f",
   "metadata": {},
   "outputs": [
    {
     "data": {
      "text/html": [
       "<div>\n",
       "<style scoped>\n",
       "    .dataframe tbody tr th:only-of-type {\n",
       "        vertical-align: middle;\n",
       "    }\n",
       "\n",
       "    .dataframe tbody tr th {\n",
       "        vertical-align: top;\n",
       "    }\n",
       "\n",
       "    .dataframe thead th {\n",
       "        text-align: right;\n",
       "    }\n",
       "</style>\n",
       "<table border=\"1\" class=\"dataframe\">\n",
       "  <thead>\n",
       "    <tr style=\"text-align: right;\">\n",
       "      <th></th>\n",
       "      <th>Adj. Open</th>\n",
       "      <th>Adj. High</th>\n",
       "      <th>Adj. Low</th>\n",
       "      <th>Adj. Close</th>\n",
       "      <th>Adj. Volume</th>\n",
       "    </tr>\n",
       "    <tr>\n",
       "      <th>Date</th>\n",
       "      <th></th>\n",
       "      <th></th>\n",
       "      <th></th>\n",
       "      <th></th>\n",
       "      <th></th>\n",
       "    </tr>\n",
       "  </thead>\n",
       "  <tbody>\n",
       "    <tr>\n",
       "      <th>2004-08-19</th>\n",
       "      <td>50.159839</td>\n",
       "      <td>52.191109</td>\n",
       "      <td>48.128568</td>\n",
       "      <td>50.322842</td>\n",
       "      <td>44659000.0</td>\n",
       "    </tr>\n",
       "    <tr>\n",
       "      <th>2004-08-20</th>\n",
       "      <td>50.661387</td>\n",
       "      <td>54.708881</td>\n",
       "      <td>50.405597</td>\n",
       "      <td>54.322689</td>\n",
       "      <td>22834300.0</td>\n",
       "    </tr>\n",
       "    <tr>\n",
       "      <th>2004-08-23</th>\n",
       "      <td>55.551482</td>\n",
       "      <td>56.915693</td>\n",
       "      <td>54.693835</td>\n",
       "      <td>54.869377</td>\n",
       "      <td>18256100.0</td>\n",
       "    </tr>\n",
       "    <tr>\n",
       "      <th>2004-08-24</th>\n",
       "      <td>55.792225</td>\n",
       "      <td>55.972783</td>\n",
       "      <td>51.945350</td>\n",
       "      <td>52.597363</td>\n",
       "      <td>15247300.0</td>\n",
       "    </tr>\n",
       "    <tr>\n",
       "      <th>2004-08-25</th>\n",
       "      <td>52.542193</td>\n",
       "      <td>54.167209</td>\n",
       "      <td>52.100830</td>\n",
       "      <td>53.164113</td>\n",
       "      <td>9188600.0</td>\n",
       "    </tr>\n",
       "    <tr>\n",
       "      <th>...</th>\n",
       "      <td>...</td>\n",
       "      <td>...</td>\n",
       "      <td>...</td>\n",
       "      <td>...</td>\n",
       "      <td>...</td>\n",
       "    </tr>\n",
       "    <tr>\n",
       "      <th>2018-03-21</th>\n",
       "      <td>1092.570000</td>\n",
       "      <td>1108.700000</td>\n",
       "      <td>1087.210000</td>\n",
       "      <td>1094.000000</td>\n",
       "      <td>1990515.0</td>\n",
       "    </tr>\n",
       "    <tr>\n",
       "      <th>2018-03-22</th>\n",
       "      <td>1080.010000</td>\n",
       "      <td>1083.920000</td>\n",
       "      <td>1049.640000</td>\n",
       "      <td>1053.150000</td>\n",
       "      <td>3418154.0</td>\n",
       "    </tr>\n",
       "    <tr>\n",
       "      <th>2018-03-23</th>\n",
       "      <td>1051.370000</td>\n",
       "      <td>1066.780000</td>\n",
       "      <td>1024.870000</td>\n",
       "      <td>1026.550000</td>\n",
       "      <td>2413517.0</td>\n",
       "    </tr>\n",
       "    <tr>\n",
       "      <th>2018-03-26</th>\n",
       "      <td>1050.600000</td>\n",
       "      <td>1059.270000</td>\n",
       "      <td>1010.580000</td>\n",
       "      <td>1054.090000</td>\n",
       "      <td>3272409.0</td>\n",
       "    </tr>\n",
       "    <tr>\n",
       "      <th>2018-03-27</th>\n",
       "      <td>1063.900000</td>\n",
       "      <td>1064.540000</td>\n",
       "      <td>997.620000</td>\n",
       "      <td>1006.940000</td>\n",
       "      <td>2940957.0</td>\n",
       "    </tr>\n",
       "  </tbody>\n",
       "</table>\n",
       "<p>3424 rows × 5 columns</p>\n",
       "</div>"
      ],
      "text/plain": [
       "              Adj. Open    Adj. High     Adj. Low   Adj. Close  Adj. Volume\n",
       "Date                                                                       \n",
       "2004-08-19    50.159839    52.191109    48.128568    50.322842   44659000.0\n",
       "2004-08-20    50.661387    54.708881    50.405597    54.322689   22834300.0\n",
       "2004-08-23    55.551482    56.915693    54.693835    54.869377   18256100.0\n",
       "2004-08-24    55.792225    55.972783    51.945350    52.597363   15247300.0\n",
       "2004-08-25    52.542193    54.167209    52.100830    53.164113    9188600.0\n",
       "...                 ...          ...          ...          ...          ...\n",
       "2018-03-21  1092.570000  1108.700000  1087.210000  1094.000000    1990515.0\n",
       "2018-03-22  1080.010000  1083.920000  1049.640000  1053.150000    3418154.0\n",
       "2018-03-23  1051.370000  1066.780000  1024.870000  1026.550000    2413517.0\n",
       "2018-03-26  1050.600000  1059.270000  1010.580000  1054.090000    3272409.0\n",
       "2018-03-27  1063.900000  1064.540000   997.620000  1006.940000    2940957.0\n",
       "\n",
       "[3424 rows x 5 columns]"
      ]
     },
     "execution_count": 4,
     "metadata": {},
     "output_type": "execute_result"
    }
   ],
   "source": [
    "# because of high correlation we will delete other columns and keep only adjusted ones\n",
    "df = df[['Adj. Open', 'Adj. High', 'Adj. Low', 'Adj. Close', 'Adj. Volume']]\n",
    "df"
   ]
  },
  {
   "cell_type": "code",
   "execution_count": 5,
   "id": "f15472d0",
   "metadata": {},
   "outputs": [
    {
     "data": {
      "text/html": [
       "<div>\n",
       "<style scoped>\n",
       "    .dataframe tbody tr th:only-of-type {\n",
       "        vertical-align: middle;\n",
       "    }\n",
       "\n",
       "    .dataframe tbody tr th {\n",
       "        vertical-align: top;\n",
       "    }\n",
       "\n",
       "    .dataframe thead th {\n",
       "        text-align: right;\n",
       "    }\n",
       "</style>\n",
       "<table border=\"1\" class=\"dataframe\">\n",
       "  <thead>\n",
       "    <tr style=\"text-align: right;\">\n",
       "      <th></th>\n",
       "      <th>Adj. Open</th>\n",
       "      <th>Adj. High</th>\n",
       "      <th>Adj. Low</th>\n",
       "      <th>Adj. Close</th>\n",
       "      <th>Adj. Volume</th>\n",
       "      <th>HL_PCT</th>\n",
       "      <th>CHANGE_PCT</th>\n",
       "    </tr>\n",
       "    <tr>\n",
       "      <th>Date</th>\n",
       "      <th></th>\n",
       "      <th></th>\n",
       "      <th></th>\n",
       "      <th></th>\n",
       "      <th></th>\n",
       "      <th></th>\n",
       "      <th></th>\n",
       "    </tr>\n",
       "  </thead>\n",
       "  <tbody>\n",
       "    <tr>\n",
       "      <th>2004-08-19</th>\n",
       "      <td>50.159839</td>\n",
       "      <td>52.191109</td>\n",
       "      <td>48.128568</td>\n",
       "      <td>50.322842</td>\n",
       "      <td>44659000.0</td>\n",
       "      <td>3.712563</td>\n",
       "      <td>0.324968</td>\n",
       "    </tr>\n",
       "    <tr>\n",
       "      <th>2004-08-20</th>\n",
       "      <td>50.661387</td>\n",
       "      <td>54.708881</td>\n",
       "      <td>50.405597</td>\n",
       "      <td>54.322689</td>\n",
       "      <td>22834300.0</td>\n",
       "      <td>0.710922</td>\n",
       "      <td>7.227007</td>\n",
       "    </tr>\n",
       "    <tr>\n",
       "      <th>2004-08-23</th>\n",
       "      <td>55.551482</td>\n",
       "      <td>56.915693</td>\n",
       "      <td>54.693835</td>\n",
       "      <td>54.869377</td>\n",
       "      <td>18256100.0</td>\n",
       "      <td>3.729433</td>\n",
       "      <td>-1.227880</td>\n",
       "    </tr>\n",
       "    <tr>\n",
       "      <th>2004-08-24</th>\n",
       "      <td>55.792225</td>\n",
       "      <td>55.972783</td>\n",
       "      <td>51.945350</td>\n",
       "      <td>52.597363</td>\n",
       "      <td>15247300.0</td>\n",
       "      <td>6.417469</td>\n",
       "      <td>-5.726357</td>\n",
       "    </tr>\n",
       "    <tr>\n",
       "      <th>2004-08-25</th>\n",
       "      <td>52.542193</td>\n",
       "      <td>54.167209</td>\n",
       "      <td>52.100830</td>\n",
       "      <td>53.164113</td>\n",
       "      <td>9188600.0</td>\n",
       "      <td>1.886792</td>\n",
       "      <td>1.183658</td>\n",
       "    </tr>\n",
       "    <tr>\n",
       "      <th>...</th>\n",
       "      <td>...</td>\n",
       "      <td>...</td>\n",
       "      <td>...</td>\n",
       "      <td>...</td>\n",
       "      <td>...</td>\n",
       "      <td>...</td>\n",
       "      <td>...</td>\n",
       "    </tr>\n",
       "    <tr>\n",
       "      <th>2018-03-21</th>\n",
       "      <td>1092.570000</td>\n",
       "      <td>1108.700000</td>\n",
       "      <td>1087.210000</td>\n",
       "      <td>1094.000000</td>\n",
       "      <td>1990515.0</td>\n",
       "      <td>1.343693</td>\n",
       "      <td>0.130884</td>\n",
       "    </tr>\n",
       "    <tr>\n",
       "      <th>2018-03-22</th>\n",
       "      <td>1080.010000</td>\n",
       "      <td>1083.920000</td>\n",
       "      <td>1049.640000</td>\n",
       "      <td>1053.150000</td>\n",
       "      <td>3418154.0</td>\n",
       "      <td>2.921711</td>\n",
       "      <td>-2.487014</td>\n",
       "    </tr>\n",
       "    <tr>\n",
       "      <th>2018-03-23</th>\n",
       "      <td>1051.370000</td>\n",
       "      <td>1066.780000</td>\n",
       "      <td>1024.870000</td>\n",
       "      <td>1026.550000</td>\n",
       "      <td>2413517.0</td>\n",
       "      <td>3.918952</td>\n",
       "      <td>-2.360729</td>\n",
       "    </tr>\n",
       "    <tr>\n",
       "      <th>2018-03-26</th>\n",
       "      <td>1050.600000</td>\n",
       "      <td>1059.270000</td>\n",
       "      <td>1010.580000</td>\n",
       "      <td>1054.090000</td>\n",
       "      <td>3272409.0</td>\n",
       "      <td>0.491419</td>\n",
       "      <td>0.332191</td>\n",
       "    </tr>\n",
       "    <tr>\n",
       "      <th>2018-03-27</th>\n",
       "      <td>1063.900000</td>\n",
       "      <td>1064.540000</td>\n",
       "      <td>997.620000</td>\n",
       "      <td>1006.940000</td>\n",
       "      <td>2940957.0</td>\n",
       "      <td>5.720301</td>\n",
       "      <td>-5.353887</td>\n",
       "    </tr>\n",
       "  </tbody>\n",
       "</table>\n",
       "<p>3424 rows × 7 columns</p>\n",
       "</div>"
      ],
      "text/plain": [
       "              Adj. Open    Adj. High     Adj. Low   Adj. Close  Adj. Volume  \\\n",
       "Date                                                                          \n",
       "2004-08-19    50.159839    52.191109    48.128568    50.322842   44659000.0   \n",
       "2004-08-20    50.661387    54.708881    50.405597    54.322689   22834300.0   \n",
       "2004-08-23    55.551482    56.915693    54.693835    54.869377   18256100.0   \n",
       "2004-08-24    55.792225    55.972783    51.945350    52.597363   15247300.0   \n",
       "2004-08-25    52.542193    54.167209    52.100830    53.164113    9188600.0   \n",
       "...                 ...          ...          ...          ...          ...   \n",
       "2018-03-21  1092.570000  1108.700000  1087.210000  1094.000000    1990515.0   \n",
       "2018-03-22  1080.010000  1083.920000  1049.640000  1053.150000    3418154.0   \n",
       "2018-03-23  1051.370000  1066.780000  1024.870000  1026.550000    2413517.0   \n",
       "2018-03-26  1050.600000  1059.270000  1010.580000  1054.090000    3272409.0   \n",
       "2018-03-27  1063.900000  1064.540000   997.620000  1006.940000    2940957.0   \n",
       "\n",
       "              HL_PCT  CHANGE_PCT  \n",
       "Date                              \n",
       "2004-08-19  3.712563    0.324968  \n",
       "2004-08-20  0.710922    7.227007  \n",
       "2004-08-23  3.729433   -1.227880  \n",
       "2004-08-24  6.417469   -5.726357  \n",
       "2004-08-25  1.886792    1.183658  \n",
       "...              ...         ...  \n",
       "2018-03-21  1.343693    0.130884  \n",
       "2018-03-22  2.921711   -2.487014  \n",
       "2018-03-23  3.918952   -2.360729  \n",
       "2018-03-26  0.491419    0.332191  \n",
       "2018-03-27  5.720301   -5.353887  \n",
       "\n",
       "[3424 rows x 7 columns]"
      ]
     },
     "execution_count": 5,
     "metadata": {},
     "output_type": "execute_result"
    }
   ],
   "source": [
    "df2 = df.copy()\n",
    "df2['HL_PCT'] = (df['Adj. High'] - df['Adj. Close']) / df['Adj. Close'] * 100\n",
    "df2['CHANGE_PCT'] = (df['Adj. Close']-df['Adj. Open']) / df['Adj. Open'] * 100\n",
    "df2"
   ]
  },
  {
   "cell_type": "code",
   "execution_count": 6,
   "id": "68b476d0",
   "metadata": {},
   "outputs": [
    {
     "data": {
      "text/html": [
       "<div>\n",
       "<style scoped>\n",
       "    .dataframe tbody tr th:only-of-type {\n",
       "        vertical-align: middle;\n",
       "    }\n",
       "\n",
       "    .dataframe tbody tr th {\n",
       "        vertical-align: top;\n",
       "    }\n",
       "\n",
       "    .dataframe thead th {\n",
       "        text-align: right;\n",
       "    }\n",
       "</style>\n",
       "<table border=\"1\" class=\"dataframe\">\n",
       "  <thead>\n",
       "    <tr style=\"text-align: right;\">\n",
       "      <th></th>\n",
       "      <th>Adj. Close</th>\n",
       "      <th>Adj. Volume</th>\n",
       "      <th>HL_PCT</th>\n",
       "      <th>CHANGE_PCT</th>\n",
       "    </tr>\n",
       "    <tr>\n",
       "      <th>Date</th>\n",
       "      <th></th>\n",
       "      <th></th>\n",
       "      <th></th>\n",
       "      <th></th>\n",
       "    </tr>\n",
       "  </thead>\n",
       "  <tbody>\n",
       "    <tr>\n",
       "      <th>2004-08-19</th>\n",
       "      <td>50.322842</td>\n",
       "      <td>44659000.0</td>\n",
       "      <td>3.712563</td>\n",
       "      <td>0.324968</td>\n",
       "    </tr>\n",
       "    <tr>\n",
       "      <th>2004-08-20</th>\n",
       "      <td>54.322689</td>\n",
       "      <td>22834300.0</td>\n",
       "      <td>0.710922</td>\n",
       "      <td>7.227007</td>\n",
       "    </tr>\n",
       "    <tr>\n",
       "      <th>2004-08-23</th>\n",
       "      <td>54.869377</td>\n",
       "      <td>18256100.0</td>\n",
       "      <td>3.729433</td>\n",
       "      <td>-1.227880</td>\n",
       "    </tr>\n",
       "    <tr>\n",
       "      <th>2004-08-24</th>\n",
       "      <td>52.597363</td>\n",
       "      <td>15247300.0</td>\n",
       "      <td>6.417469</td>\n",
       "      <td>-5.726357</td>\n",
       "    </tr>\n",
       "    <tr>\n",
       "      <th>2004-08-25</th>\n",
       "      <td>53.164113</td>\n",
       "      <td>9188600.0</td>\n",
       "      <td>1.886792</td>\n",
       "      <td>1.183658</td>\n",
       "    </tr>\n",
       "    <tr>\n",
       "      <th>...</th>\n",
       "      <td>...</td>\n",
       "      <td>...</td>\n",
       "      <td>...</td>\n",
       "      <td>...</td>\n",
       "    </tr>\n",
       "    <tr>\n",
       "      <th>2018-03-21</th>\n",
       "      <td>1094.000000</td>\n",
       "      <td>1990515.0</td>\n",
       "      <td>1.343693</td>\n",
       "      <td>0.130884</td>\n",
       "    </tr>\n",
       "    <tr>\n",
       "      <th>2018-03-22</th>\n",
       "      <td>1053.150000</td>\n",
       "      <td>3418154.0</td>\n",
       "      <td>2.921711</td>\n",
       "      <td>-2.487014</td>\n",
       "    </tr>\n",
       "    <tr>\n",
       "      <th>2018-03-23</th>\n",
       "      <td>1026.550000</td>\n",
       "      <td>2413517.0</td>\n",
       "      <td>3.918952</td>\n",
       "      <td>-2.360729</td>\n",
       "    </tr>\n",
       "    <tr>\n",
       "      <th>2018-03-26</th>\n",
       "      <td>1054.090000</td>\n",
       "      <td>3272409.0</td>\n",
       "      <td>0.491419</td>\n",
       "      <td>0.332191</td>\n",
       "    </tr>\n",
       "    <tr>\n",
       "      <th>2018-03-27</th>\n",
       "      <td>1006.940000</td>\n",
       "      <td>2940957.0</td>\n",
       "      <td>5.720301</td>\n",
       "      <td>-5.353887</td>\n",
       "    </tr>\n",
       "  </tbody>\n",
       "</table>\n",
       "<p>3424 rows × 4 columns</p>\n",
       "</div>"
      ],
      "text/plain": [
       "             Adj. Close  Adj. Volume    HL_PCT  CHANGE_PCT\n",
       "Date                                                      \n",
       "2004-08-19    50.322842   44659000.0  3.712563    0.324968\n",
       "2004-08-20    54.322689   22834300.0  0.710922    7.227007\n",
       "2004-08-23    54.869377   18256100.0  3.729433   -1.227880\n",
       "2004-08-24    52.597363   15247300.0  6.417469   -5.726357\n",
       "2004-08-25    53.164113    9188600.0  1.886792    1.183658\n",
       "...                 ...          ...       ...         ...\n",
       "2018-03-21  1094.000000    1990515.0  1.343693    0.130884\n",
       "2018-03-22  1053.150000    3418154.0  2.921711   -2.487014\n",
       "2018-03-23  1026.550000    2413517.0  3.918952   -2.360729\n",
       "2018-03-26  1054.090000    3272409.0  0.491419    0.332191\n",
       "2018-03-27  1006.940000    2940957.0  5.720301   -5.353887\n",
       "\n",
       "[3424 rows x 4 columns]"
      ]
     },
     "execution_count": 6,
     "metadata": {},
     "output_type": "execute_result"
    }
   ],
   "source": [
    "# drop other irrelavant columns\n",
    "df2.drop(columns = ['Adj. High','Adj. Low','Adj. Open'],inplace = True)\n",
    "df2"
   ]
  },
  {
   "cell_type": "code",
   "execution_count": 7,
   "id": "36511936",
   "metadata": {},
   "outputs": [],
   "source": [
    "# define our feature column\n",
    "feature_col = 'Adj. Close'"
   ]
  },
  {
   "cell_type": "code",
   "execution_count": 8,
   "id": "1bbcaade",
   "metadata": {},
   "outputs": [],
   "source": [
    "# fill na values\n",
    "df2.fillna(-99999,inplace = True)"
   ]
  },
  {
   "cell_type": "code",
   "execution_count": 9,
   "id": "c5abafb1",
   "metadata": {},
   "outputs": [
    {
     "data": {
      "application/javascript": "\n        if (window._pyforest_update_imports_cell) { window._pyforest_update_imports_cell('import matplotlib.pyplot as plt\\nimport seaborn as sns\\nimport quandl\\nimport math'); }\n    ",
      "text/plain": [
       "<IPython.core.display.Javascript object>"
      ]
     },
     "metadata": {},
     "output_type": "display_data"
    },
    {
     "data": {
      "text/plain": [
       "35"
      ]
     },
     "execution_count": 9,
     "metadata": {},
     "output_type": "execute_result"
    }
   ],
   "source": [
    "forecast_out = math.ceil(0.01*len(df))\n",
    "forecast_out"
   ]
  },
  {
   "cell_type": "code",
   "execution_count": 10,
   "id": "ebe21956",
   "metadata": {},
   "outputs": [
    {
     "data": {
      "text/html": [
       "<div>\n",
       "<style scoped>\n",
       "    .dataframe tbody tr th:only-of-type {\n",
       "        vertical-align: middle;\n",
       "    }\n",
       "\n",
       "    .dataframe tbody tr th {\n",
       "        vertical-align: top;\n",
       "    }\n",
       "\n",
       "    .dataframe thead th {\n",
       "        text-align: right;\n",
       "    }\n",
       "</style>\n",
       "<table border=\"1\" class=\"dataframe\">\n",
       "  <thead>\n",
       "    <tr style=\"text-align: right;\">\n",
       "      <th></th>\n",
       "      <th>Adj. Close</th>\n",
       "      <th>Adj. Volume</th>\n",
       "      <th>HL_PCT</th>\n",
       "      <th>CHANGE_PCT</th>\n",
       "      <th>label</th>\n",
       "    </tr>\n",
       "    <tr>\n",
       "      <th>Date</th>\n",
       "      <th></th>\n",
       "      <th></th>\n",
       "      <th></th>\n",
       "      <th></th>\n",
       "      <th></th>\n",
       "    </tr>\n",
       "  </thead>\n",
       "  <tbody>\n",
       "    <tr>\n",
       "      <th>2004-08-19</th>\n",
       "      <td>50.322842</td>\n",
       "      <td>44659000.0</td>\n",
       "      <td>3.712563</td>\n",
       "      <td>0.324968</td>\n",
       "      <td>69.078238</td>\n",
       "    </tr>\n",
       "    <tr>\n",
       "      <th>2004-08-20</th>\n",
       "      <td>54.322689</td>\n",
       "      <td>22834300.0</td>\n",
       "      <td>0.710922</td>\n",
       "      <td>7.227007</td>\n",
       "      <td>67.839414</td>\n",
       "    </tr>\n",
       "    <tr>\n",
       "      <th>2004-08-23</th>\n",
       "      <td>54.869377</td>\n",
       "      <td>18256100.0</td>\n",
       "      <td>3.729433</td>\n",
       "      <td>-1.227880</td>\n",
       "      <td>68.912727</td>\n",
       "    </tr>\n",
       "    <tr>\n",
       "      <th>2004-08-24</th>\n",
       "      <td>52.597363</td>\n",
       "      <td>15247300.0</td>\n",
       "      <td>6.417469</td>\n",
       "      <td>-5.726357</td>\n",
       "      <td>70.668146</td>\n",
       "    </tr>\n",
       "    <tr>\n",
       "      <th>2004-08-25</th>\n",
       "      <td>53.164113</td>\n",
       "      <td>9188600.0</td>\n",
       "      <td>1.886792</td>\n",
       "      <td>1.183658</td>\n",
       "      <td>71.219849</td>\n",
       "    </tr>\n",
       "    <tr>\n",
       "      <th>...</th>\n",
       "      <td>...</td>\n",
       "      <td>...</td>\n",
       "      <td>...</td>\n",
       "      <td>...</td>\n",
       "      <td>...</td>\n",
       "    </tr>\n",
       "    <tr>\n",
       "      <th>2018-03-21</th>\n",
       "      <td>1094.000000</td>\n",
       "      <td>1990515.0</td>\n",
       "      <td>1.343693</td>\n",
       "      <td>0.130884</td>\n",
       "      <td>NaN</td>\n",
       "    </tr>\n",
       "    <tr>\n",
       "      <th>2018-03-22</th>\n",
       "      <td>1053.150000</td>\n",
       "      <td>3418154.0</td>\n",
       "      <td>2.921711</td>\n",
       "      <td>-2.487014</td>\n",
       "      <td>NaN</td>\n",
       "    </tr>\n",
       "    <tr>\n",
       "      <th>2018-03-23</th>\n",
       "      <td>1026.550000</td>\n",
       "      <td>2413517.0</td>\n",
       "      <td>3.918952</td>\n",
       "      <td>-2.360729</td>\n",
       "      <td>NaN</td>\n",
       "    </tr>\n",
       "    <tr>\n",
       "      <th>2018-03-26</th>\n",
       "      <td>1054.090000</td>\n",
       "      <td>3272409.0</td>\n",
       "      <td>0.491419</td>\n",
       "      <td>0.332191</td>\n",
       "      <td>NaN</td>\n",
       "    </tr>\n",
       "    <tr>\n",
       "      <th>2018-03-27</th>\n",
       "      <td>1006.940000</td>\n",
       "      <td>2940957.0</td>\n",
       "      <td>5.720301</td>\n",
       "      <td>-5.353887</td>\n",
       "      <td>NaN</td>\n",
       "    </tr>\n",
       "  </tbody>\n",
       "</table>\n",
       "<p>3424 rows × 5 columns</p>\n",
       "</div>"
      ],
      "text/plain": [
       "             Adj. Close  Adj. Volume    HL_PCT  CHANGE_PCT      label\n",
       "Date                                                                 \n",
       "2004-08-19    50.322842   44659000.0  3.712563    0.324968  69.078238\n",
       "2004-08-20    54.322689   22834300.0  0.710922    7.227007  67.839414\n",
       "2004-08-23    54.869377   18256100.0  3.729433   -1.227880  68.912727\n",
       "2004-08-24    52.597363   15247300.0  6.417469   -5.726357  70.668146\n",
       "2004-08-25    53.164113    9188600.0  1.886792    1.183658  71.219849\n",
       "...                 ...          ...       ...         ...        ...\n",
       "2018-03-21  1094.000000    1990515.0  1.343693    0.130884        NaN\n",
       "2018-03-22  1053.150000    3418154.0  2.921711   -2.487014        NaN\n",
       "2018-03-23  1026.550000    2413517.0  3.918952   -2.360729        NaN\n",
       "2018-03-26  1054.090000    3272409.0  0.491419    0.332191        NaN\n",
       "2018-03-27  1006.940000    2940957.0  5.720301   -5.353887        NaN\n",
       "\n",
       "[3424 rows x 5 columns]"
      ]
     },
     "execution_count": 10,
     "metadata": {},
     "output_type": "execute_result"
    }
   ],
   "source": [
    "# create label column which is adjusted close column but exluded last 1% percentage of it\n",
    "df2['label'] = df2[feature_col].shift(-forecast_out)\n",
    "df2"
   ]
  },
  {
   "cell_type": "code",
   "execution_count": 11,
   "id": "2f07cab3",
   "metadata": {},
   "outputs": [],
   "source": [
    "df2.dropna(inplace= True)\n",
    "df2"
   ]
  },
  {
   "cell_type": "code",
   "execution_count": 13,
   "id": "04ddfbae",
   "metadata": {},
   "outputs": [
    {
     "data": {
      "application/javascript": "\n        if (window._pyforest_update_imports_cell) { window._pyforest_update_imports_cell('import quandl\\nfrom sklearn import preprocessing\\nimport matplotlib.pyplot as plt\\nimport seaborn as sns\\nimport math\\nimport numpy as np'); }\n    ",
      "text/plain": [
       "<IPython.core.display.Javascript object>"
      ]
     },
     "metadata": {},
     "output_type": "display_data"
    },
    {
     "data": {
      "application/javascript": "\n        if (window._pyforest_update_imports_cell) { window._pyforest_update_imports_cell('import quandl\\nfrom sklearn import preprocessing\\nimport matplotlib.pyplot as plt\\nimport seaborn as sns\\nimport math\\nimport numpy as np'); }\n    ",
      "text/plain": [
       "<IPython.core.display.Javascript object>"
      ]
     },
     "metadata": {},
     "output_type": "display_data"
    }
   ],
   "source": [
    "# split features and labels \n",
    "X = np.array(df2.drop(columns = 'label'))\n",
    "y = np.array(df2['label'])"
   ]
  },
  {
   "cell_type": "code",
   "execution_count": 14,
   "id": "5f8758d5",
   "metadata": {},
   "outputs": [
    {
     "name": "stdout",
     "output_type": "stream",
     "text": [
      "3389\n",
      "3389\n"
     ]
    }
   ],
   "source": [
    "# check lens if they are the same\n",
    "print(len(X))\n",
    "print(len(y))"
   ]
  },
  {
   "cell_type": "code",
   "execution_count": 15,
   "id": "83fb3b39",
   "metadata": {},
   "outputs": [
    {
     "data": {
      "application/javascript": "\n        if (window._pyforest_update_imports_cell) { window._pyforest_update_imports_cell('import quandl\\nfrom sklearn import preprocessing\\nimport matplotlib.pyplot as plt\\nimport seaborn as sns\\nimport math\\nimport numpy as np'); }\n    ",
      "text/plain": [
       "<IPython.core.display.Javascript object>"
      ]
     },
     "metadata": {},
     "output_type": "display_data"
    }
   ],
   "source": [
    "X = preprocessing.scale(X)"
   ]
  },
  {
   "cell_type": "code",
   "execution_count": 21,
   "id": "c5056a62",
   "metadata": {},
   "outputs": [],
   "source": [
    "# split data to train and test dataset\n",
    "X_train, X_test, y_train, y_test = train_test_split(X,y,test_size = 0.2)"
   ]
  },
  {
   "cell_type": "code",
   "execution_count": 22,
   "id": "acf15b0f",
   "metadata": {},
   "outputs": [
    {
     "data": {
      "application/javascript": "\n        if (window._pyforest_update_imports_cell) { window._pyforest_update_imports_cell('import quandl\\nimport sklearn\\nfrom sklearn.linear_model import LinearRegression\\nfrom sklearn import preprocessing\\nimport matplotlib.pyplot as plt\\nimport seaborn as sns\\nimport math\\nimport numpy as np'); }\n    ",
      "text/plain": [
       "<IPython.core.display.Javascript object>"
      ]
     },
     "metadata": {},
     "output_type": "display_data"
    },
    {
     "data": {
      "text/html": [
       "<style>#sk-container-id-1 {color: black;background-color: white;}#sk-container-id-1 pre{padding: 0;}#sk-container-id-1 div.sk-toggleable {background-color: white;}#sk-container-id-1 label.sk-toggleable__label {cursor: pointer;display: block;width: 100%;margin-bottom: 0;padding: 0.3em;box-sizing: border-box;text-align: center;}#sk-container-id-1 label.sk-toggleable__label-arrow:before {content: \"▸\";float: left;margin-right: 0.25em;color: #696969;}#sk-container-id-1 label.sk-toggleable__label-arrow:hover:before {color: black;}#sk-container-id-1 div.sk-estimator:hover label.sk-toggleable__label-arrow:before {color: black;}#sk-container-id-1 div.sk-toggleable__content {max-height: 0;max-width: 0;overflow: hidden;text-align: left;background-color: #f0f8ff;}#sk-container-id-1 div.sk-toggleable__content pre {margin: 0.2em;color: black;border-radius: 0.25em;background-color: #f0f8ff;}#sk-container-id-1 input.sk-toggleable__control:checked~div.sk-toggleable__content {max-height: 200px;max-width: 100%;overflow: auto;}#sk-container-id-1 input.sk-toggleable__control:checked~label.sk-toggleable__label-arrow:before {content: \"▾\";}#sk-container-id-1 div.sk-estimator input.sk-toggleable__control:checked~label.sk-toggleable__label {background-color: #d4ebff;}#sk-container-id-1 div.sk-label input.sk-toggleable__control:checked~label.sk-toggleable__label {background-color: #d4ebff;}#sk-container-id-1 input.sk-hidden--visually {border: 0;clip: rect(1px 1px 1px 1px);clip: rect(1px, 1px, 1px, 1px);height: 1px;margin: -1px;overflow: hidden;padding: 0;position: absolute;width: 1px;}#sk-container-id-1 div.sk-estimator {font-family: monospace;background-color: #f0f8ff;border: 1px dotted black;border-radius: 0.25em;box-sizing: border-box;margin-bottom: 0.5em;}#sk-container-id-1 div.sk-estimator:hover {background-color: #d4ebff;}#sk-container-id-1 div.sk-parallel-item::after {content: \"\";width: 100%;border-bottom: 1px solid gray;flex-grow: 1;}#sk-container-id-1 div.sk-label:hover label.sk-toggleable__label {background-color: #d4ebff;}#sk-container-id-1 div.sk-serial::before {content: \"\";position: absolute;border-left: 1px solid gray;box-sizing: border-box;top: 0;bottom: 0;left: 50%;z-index: 0;}#sk-container-id-1 div.sk-serial {display: flex;flex-direction: column;align-items: center;background-color: white;padding-right: 0.2em;padding-left: 0.2em;position: relative;}#sk-container-id-1 div.sk-item {position: relative;z-index: 1;}#sk-container-id-1 div.sk-parallel {display: flex;align-items: stretch;justify-content: center;background-color: white;position: relative;}#sk-container-id-1 div.sk-item::before, #sk-container-id-1 div.sk-parallel-item::before {content: \"\";position: absolute;border-left: 1px solid gray;box-sizing: border-box;top: 0;bottom: 0;left: 50%;z-index: -1;}#sk-container-id-1 div.sk-parallel-item {display: flex;flex-direction: column;z-index: 1;position: relative;background-color: white;}#sk-container-id-1 div.sk-parallel-item:first-child::after {align-self: flex-end;width: 50%;}#sk-container-id-1 div.sk-parallel-item:last-child::after {align-self: flex-start;width: 50%;}#sk-container-id-1 div.sk-parallel-item:only-child::after {width: 0;}#sk-container-id-1 div.sk-dashed-wrapped {border: 1px dashed gray;margin: 0 0.4em 0.5em 0.4em;box-sizing: border-box;padding-bottom: 0.4em;background-color: white;}#sk-container-id-1 div.sk-label label {font-family: monospace;font-weight: bold;display: inline-block;line-height: 1.2em;}#sk-container-id-1 div.sk-label-container {text-align: center;}#sk-container-id-1 div.sk-container {/* jupyter's `normalize.less` sets `[hidden] { display: none; }` but bootstrap.min.css set `[hidden] { display: none !important; }` so we also need the `!important` here to be able to override the default hidden behavior on the sphinx rendered scikit-learn.org. See: https://github.com/scikit-learn/scikit-learn/issues/21755 */display: inline-block !important;position: relative;}#sk-container-id-1 div.sk-text-repr-fallback {display: none;}</style><div id=\"sk-container-id-1\" class=\"sk-top-container\"><div class=\"sk-text-repr-fallback\"><pre>LinearRegression()</pre><b>In a Jupyter environment, please rerun this cell to show the HTML representation or trust the notebook. <br />On GitHub, the HTML representation is unable to render, please try loading this page with nbviewer.org.</b></div><div class=\"sk-container\" hidden><div class=\"sk-item\"><div class=\"sk-estimator sk-toggleable\"><input class=\"sk-toggleable__control sk-hidden--visually\" id=\"sk-estimator-id-1\" type=\"checkbox\" checked><label for=\"sk-estimator-id-1\" class=\"sk-toggleable__label sk-toggleable__label-arrow\">LinearRegression</label><div class=\"sk-toggleable__content\"><pre>LinearRegression()</pre></div></div></div></div></div>"
      ],
      "text/plain": [
       "LinearRegression()"
      ]
     },
     "execution_count": 22,
     "metadata": {},
     "output_type": "execute_result"
    }
   ],
   "source": [
    "# train our model with Linear regression\n",
    "clf = LinearRegression()\n",
    "clf.fit(X_train, y_train)"
   ]
  },
  {
   "cell_type": "code",
   "execution_count": 23,
   "id": "fd13b9f8",
   "metadata": {},
   "outputs": [
    {
     "name": "stdout",
     "output_type": "stream",
     "text": [
      "0.9781020409809027\n"
     ]
    }
   ],
   "source": [
    "accuracy = clf.score(X_test, y_test)\n",
    "print(accuracy)"
   ]
  },
  {
   "cell_type": "code",
   "execution_count": 25,
   "id": "47e9e6ce",
   "metadata": {},
   "outputs": [
    {
     "data": {
      "application/javascript": "\n        if (window._pyforest_update_imports_cell) { window._pyforest_update_imports_cell('import quandl\\nimport sklearn\\nfrom sklearn.linear_model import LinearRegression\\nfrom sklearn import preprocessing\\nimport matplotlib.pyplot as plt\\nimport seaborn as sns\\nimport math\\nfrom sklearn import svm\\nimport numpy as np'); }\n    ",
      "text/plain": [
       "<IPython.core.display.Javascript object>"
      ]
     },
     "metadata": {},
     "output_type": "display_data"
    },
    {
     "name": "stdout",
     "output_type": "stream",
     "text": [
      "0.7888328924737017\n"
     ]
    }
   ],
   "source": [
    "# train our model with SVM\n",
    "clf = svm.SVR()\n",
    "clf.fit(X_train, y_train)\n",
    "accuracy = clf.score(X_test, y_test)\n",
    "print(accuracy)"
   ]
  }
 ],
 "metadata": {
  "kernelspec": {
   "display_name": "Python 3 (ipykernel)",
   "language": "python",
   "name": "python3"
  },
  "language_info": {
   "codemirror_mode": {
    "name": "ipython",
    "version": 3
   },
   "file_extension": ".py",
   "mimetype": "text/x-python",
   "name": "python",
   "nbconvert_exporter": "python",
   "pygments_lexer": "ipython3",
   "version": "3.9.13"
  },
  "vscode": {
   "interpreter": {
    "hash": "26de051ba29f2982a8de78e945f0abaf191376122a1563185a90213a26c5da77"
   }
  }
 },
 "nbformat": 4,
 "nbformat_minor": 5
}
